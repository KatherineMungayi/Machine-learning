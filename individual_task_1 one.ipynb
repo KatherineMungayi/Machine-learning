{
  "nbformat": 4,
  "nbformat_minor": 0,
  "metadata": {
    "colab": {
      "name": "individual task 1.ipynb",
      "provenance": [],
      "collapsed_sections": []
    },
    "kernelspec": {
      "name": "python3",
      "display_name": "Python 3"
    },
    "language_info": {
      "name": "python"
    }
  },
  "cells": [
    {
      "cell_type": "code",
      "execution_count": 1,
      "metadata": {
        "id": "rCBMYlV-P4qN"
      },
      "outputs": [],
      "source": [
        "import matplotlib.pyplot as plt\n",
        "import numpy as np\n",
        "import pandas as pd\n",
        "from sklearn import datasets\n",
        "from sklearn.metrics import mean_squared_error\n"
      ]
    },
    {
      "cell_type": "markdown",
      "source": [
        "Defining gradient and y-intercept,number of iterations\n",
        "\n"
      ],
      "metadata": {
        "id": "0F8ZpaP4IdSJ"
      }
    },
    {
      "cell_type": "code",
      "source": [
        "m = 0.5\n",
        "c = 0.2\n",
        "L = 0.0001\n",
        "epoch =30\n",
        "epoch_error_list = []\n",
        "epoch_count_list = []"
      ],
      "metadata": {
        "id": "XPVxg9xkWAO5"
      },
      "execution_count": 2,
      "outputs": []
    },
    {
      "cell_type": "markdown",
      "source": [
        "creating the dataset of 100 entries\n"
      ],
      "metadata": {
        "id": "Crbft_OOIm39"
      }
    },
    {
      "cell_type": "code",
      "source": [
        "noise=np.random.normal(1,15,100)"
      ],
      "metadata": {
        "id": "c-vdQNkKQMvV"
      },
      "execution_count": 3,
      "outputs": []
    },
    {
      "cell_type": "code",
      "source": [
        "x=np.random.uniform(10,100,100)\n",
        "y=m*x+c\n",
        "Y=y+noise\n",
        "N=float(len(x))"
      ],
      "metadata": {
        "id": "DMGzHd0gTeEi"
      },
      "execution_count": 4,
      "outputs": []
    },
    {
      "cell_type": "code",
      "source": [
        "plt.scatter(x,Y)"
      ],
      "metadata": {
        "colab": {
          "base_uri": "https://localhost:8080/",
          "height": 282
        },
        "id": "IXKh0rXeUGfj",
        "outputId": "50a006d4-43f6-4cd9-83f0-c6dbd208c21e"
      },
      "execution_count": 5,
      "outputs": [
        {
          "output_type": "execute_result",
          "data": {
            "text/plain": [
              "<matplotlib.collections.PathCollection at 0x7f54a3e6a250>"
            ]
          },
          "metadata": {},
          "execution_count": 5
        },
        {
          "output_type": "display_data",
          "data": {
            "text/plain": [
              "<Figure size 432x288 with 1 Axes>"
            ],
            "image/png": "[encoded data removed]"
          },
          "metadata": {
            "needs_background": "light"
          }
        }
      ]
    },
    {
      "cell_type": "markdown",
      "source": [
        "Mean Square Error function for error computation"
      ],
      "metadata": {
        "id": "j_8wU_FZIQ-E"
      }
    },
    {
      "cell_type": "code",
      "source": [
        "def mse(N,Y,Y_hat):\n",
        "  return (1/N)*sum(Y-Y_hat)**2"
      ],
      "metadata": {
        "id": "4VZt2tiBYPbL"
      },
      "execution_count": 6,
      "outputs": []
    },
    {
      "cell_type": "code",
      "source": [
        "def gradient_descent_fit(m,c,N,L):\n",
        "  epoch_error_list=[]\n",
        "  epoch_count_list=[]\n",
        "  for i in range(epoch):\n",
        "    Y_hat = m*x+c\n",
        "    \n",
        "    \n",
        "    epoch_count_list=epoch_count_list[:]\n",
        "    epoch_count_list.append(i)\n",
        "    epoch_error=mse(N,Y,Y_hat)\n",
        "    #print('error ',epoch_error)\n",
        "    epoch_error_list=epoch_error_list[:]\n",
        "    epoch_error_list.append(epoch_error)\n",
        "\n",
        "    #minimize the error function by computing the partial derivatives\n",
        "    D_m=(-2/N)*sum(x*(Y-Y_hat))\n",
        "    #print('D_m ',D_m)\n",
        "    D_c=(-2/N)*sum(Y-Y_hat)\n",
        "    \n",
        "    #Apply gradient descent formular to update both m and c into new values\n",
        "    m=m-(L * D_m)\n",
        "    #m=m-(2*X*())\n",
        "    #print('new m is', m)\n",
        "    c=c-(L * D_c)\n",
        "  #you can print the final m and c after all iterations are done\n",
        "  print(\"final m is: \",m,\" and final c is: \",c)\n",
        "  #return final predicted value of Y-dependent variable\n",
        "  return Y_hat,epoch_count_list,epoch_error_list"
      ],
      "metadata": {
        "id": "Oi1m4YvwUjg7"
      },
      "execution_count": 7,
      "outputs": []
    },
    {
      "cell_type": "markdown",
      "source": [
        "Invoking the gradient descent fit function\n"
      ],
      "metadata": {
        "id": "v1uPI1OYI1is"
      }
    },
    {
      "cell_type": "code",
      "source": [
        "\n",
        "returned_params=gradient_descent_fit(m,c,N,L)\n",
        "y_predicted=returned_params[0]\n",
        "total_epochs=returned_params[1]\n",
        "all_epoch_errors=returned_params[2]"
      ],
      "metadata": {
        "colab": {
          "base_uri": "https://localhost:8080/"
        },
        "id": "3V7XE2Z2VMBx",
        "outputId": "7f1757f8-bf58-4cb2-bccb-50de7bce5e12"
      },
      "execution_count": 8,
      "outputs": [
        {
          "output_type": "stream",
          "name": "stdout",
          "text": [
            "final m is:  0.567299823762121  and final c is:  0.19738447971197484\n"
          ]
        }
      ]
    },
    {
      "cell_type": "markdown",
      "source": [
        "Creating a line graph for the line of best fit and mean square error\n"
      ],
      "metadata": {
        "id": "TNYzfisJJAlN"
      }
    },
    {
      "cell_type": "code",
      "source": [
        "\n",
        "fig,(ax1,ax2)=plt.subplots(2,gridspec_kw={'top':2})\n",
        "ax1.set(xlabel=\"Office size in Sq ft\")\n",
        "ax1.set(ylabel=\"Office Price in Kshs\")\n",
        "ax1.set_title(\"Regression Model For Office Prices.: Line of Best Fit\")\n",
        "ax1.scatter(x,Y)\n",
        "\n",
        "ax1.plot([min(x),max(x)],[min(y_predicted),max(y_predicted)],color='black')\n",
        "ax2.set_title(\"Graph 2:Mean Squared Error  Curve\")\n",
        "ax2.set(xlabel=\"Epochs\")\n",
        "ax2.set(ylabel=\"Mean Squared Error\")\n",
        "ax2.plot(total_epochs,all_epoch_errors)\n",
        "\n",
        "#Destroy the used lists to prevent recarpetting on append\n",
        "epoch_count_list.clear()\n",
        "epoch_error_list.clear()"
      ],
      "metadata": {
        "colab": {
          "base_uri": "https://localhost:8080/",
          "height": 618
        },
        "id": "GaIJtBx2W4DE",
        "outputId": "02da579c-73be-4188-8865-7c9311e4eee8"
      },
      "execution_count": 10,
      "outputs": [
        {
          "output_type": "display_data",
          "data": {
            "text/plain": [
              "<Figure size 432x288 with 2 Axes>"
            ],
            "image/png": "[encoded data removed]"
          },
          "metadata": {
            "needs_background": "light"
          }
        }
      ]
    }
  ]
}